{
 "cells": [
  {
   "cell_type": "code",
   "execution_count": 124,
   "metadata": {},
   "outputs": [],
   "source": [
    "import pandas as pd\n",
    "import numpy as np\n",
    "import matplotlib.pyplot as plt\n",
    "import seaborn as sns\n",
    "import scipy.stats as stats\n",
    "import statsmodels.api as sm\n",
    "from sklearn.linear_model import LinearRegression\n",
    "from sklearn.model_selection import train_test_split"
   ]
  },
  {
   "cell_type": "code",
   "execution_count": 125,
   "metadata": {},
   "outputs": [],
   "source": [
    "df = pd.read_csv('./SQuAD_csv.csv')"
   ]
  },
  {
   "cell_type": "code",
   "execution_count": 126,
   "metadata": {},
   "outputs": [
    {
     "name": "stdout",
     "output_type": "stream",
     "text": [
      "<class 'pandas.core.frame.DataFrame'>\n",
      "RangeIndex: 86821 entries, 0 to 86820\n",
      "Data columns (total 6 columns):\n",
      " #   Column        Non-Null Count  Dtype \n",
      "---  ------        --------------  ----- \n",
      " 0   Unnamed: 0    86821 non-null  int64 \n",
      " 1   context       86821 non-null  object\n",
      " 2   question      86821 non-null  object\n",
      " 3   id            86821 non-null  object\n",
      " 4   answer_start  86821 non-null  int64 \n",
      " 5   text          86818 non-null  object\n",
      "dtypes: int64(2), object(4)\n",
      "memory usage: 4.0+ MB\n"
     ]
    }
   ],
   "source": [
    "df.info()"
   ]
  },
  {
   "cell_type": "code",
   "execution_count": 127,
   "metadata": {},
   "outputs": [
    {
     "data": {
      "text/html": [
       "<div>\n",
       "<style scoped>\n",
       "    .dataframe tbody tr th:only-of-type {\n",
       "        vertical-align: middle;\n",
       "    }\n",
       "\n",
       "    .dataframe tbody tr th {\n",
       "        vertical-align: top;\n",
       "    }\n",
       "\n",
       "    .dataframe thead th {\n",
       "        text-align: right;\n",
       "    }\n",
       "</style>\n",
       "<table border=\"1\" class=\"dataframe\">\n",
       "  <thead>\n",
       "    <tr style=\"text-align: right;\">\n",
       "      <th></th>\n",
       "      <th>Unnamed: 0</th>\n",
       "      <th>context</th>\n",
       "      <th>question</th>\n",
       "      <th>id</th>\n",
       "      <th>answer_start</th>\n",
       "      <th>text</th>\n",
       "    </tr>\n",
       "  </thead>\n",
       "  <tbody>\n",
       "    <tr>\n",
       "      <th>0</th>\n",
       "      <td>0</td>\n",
       "      <td>Beyoncé Giselle Knowles-Carter (/biːˈjɒnseɪ/ b...</td>\n",
       "      <td>When did Beyonce start becoming popular?</td>\n",
       "      <td>56be85543aeaaa14008c9063</td>\n",
       "      <td>269</td>\n",
       "      <td>in the late 1990s</td>\n",
       "    </tr>\n",
       "    <tr>\n",
       "      <th>1</th>\n",
       "      <td>1</td>\n",
       "      <td>Beyoncé Giselle Knowles-Carter (/biːˈjɒnseɪ/ b...</td>\n",
       "      <td>What areas did Beyonce compete in when she was...</td>\n",
       "      <td>56be85543aeaaa14008c9065</td>\n",
       "      <td>207</td>\n",
       "      <td>singing and dancing</td>\n",
       "    </tr>\n",
       "    <tr>\n",
       "      <th>2</th>\n",
       "      <td>2</td>\n",
       "      <td>Beyoncé Giselle Knowles-Carter (/biːˈjɒnseɪ/ b...</td>\n",
       "      <td>When did Beyonce leave Destiny's Child and bec...</td>\n",
       "      <td>56be85543aeaaa14008c9066</td>\n",
       "      <td>526</td>\n",
       "      <td>2003</td>\n",
       "    </tr>\n",
       "    <tr>\n",
       "      <th>3</th>\n",
       "      <td>3</td>\n",
       "      <td>Beyoncé Giselle Knowles-Carter (/biːˈjɒnseɪ/ b...</td>\n",
       "      <td>In what city and state did Beyonce  grow up?</td>\n",
       "      <td>56bf6b0f3aeaaa14008c9601</td>\n",
       "      <td>166</td>\n",
       "      <td>Houston, Texas</td>\n",
       "    </tr>\n",
       "    <tr>\n",
       "      <th>4</th>\n",
       "      <td>4</td>\n",
       "      <td>Beyoncé Giselle Knowles-Carter (/biːˈjɒnseɪ/ b...</td>\n",
       "      <td>In which decade did Beyonce become famous?</td>\n",
       "      <td>56bf6b0f3aeaaa14008c9602</td>\n",
       "      <td>276</td>\n",
       "      <td>late 1990s</td>\n",
       "    </tr>\n",
       "    <tr>\n",
       "      <th>5</th>\n",
       "      <td>5</td>\n",
       "      <td>Beyoncé Giselle Knowles-Carter (/biːˈjɒnseɪ/ b...</td>\n",
       "      <td>In what R&amp;B group was she the lead singer?</td>\n",
       "      <td>56bf6b0f3aeaaa14008c9603</td>\n",
       "      <td>320</td>\n",
       "      <td>Destiny's Child</td>\n",
       "    </tr>\n",
       "    <tr>\n",
       "      <th>6</th>\n",
       "      <td>6</td>\n",
       "      <td>Beyoncé Giselle Knowles-Carter (/biːˈjɒnseɪ/ b...</td>\n",
       "      <td>What album made her a worldwide known artist?</td>\n",
       "      <td>56bf6b0f3aeaaa14008c9604</td>\n",
       "      <td>505</td>\n",
       "      <td>Dangerously in Love</td>\n",
       "    </tr>\n",
       "    <tr>\n",
       "      <th>7</th>\n",
       "      <td>7</td>\n",
       "      <td>Beyoncé Giselle Knowles-Carter (/biːˈjɒnseɪ/ b...</td>\n",
       "      <td>Who managed the Destiny's Child group?</td>\n",
       "      <td>56bf6b0f3aeaaa14008c9605</td>\n",
       "      <td>360</td>\n",
       "      <td>Mathew Knowles</td>\n",
       "    </tr>\n",
       "    <tr>\n",
       "      <th>8</th>\n",
       "      <td>8</td>\n",
       "      <td>Beyoncé Giselle Knowles-Carter (/biːˈjɒnseɪ/ b...</td>\n",
       "      <td>When did Beyoncé rise to fame?</td>\n",
       "      <td>56d43c5f2ccc5a1400d830a9</td>\n",
       "      <td>276</td>\n",
       "      <td>late 1990s</td>\n",
       "    </tr>\n",
       "    <tr>\n",
       "      <th>9</th>\n",
       "      <td>9</td>\n",
       "      <td>Beyoncé Giselle Knowles-Carter (/biːˈjɒnseɪ/ b...</td>\n",
       "      <td>What role did Beyoncé have in Destiny's Child?</td>\n",
       "      <td>56d43c5f2ccc5a1400d830aa</td>\n",
       "      <td>290</td>\n",
       "      <td>lead singer</td>\n",
       "    </tr>\n",
       "  </tbody>\n",
       "</table>\n",
       "</div>"
      ],
      "text/plain": [
       "   Unnamed: 0                                            context  \\\n",
       "0           0  Beyoncé Giselle Knowles-Carter (/biːˈjɒnseɪ/ b...   \n",
       "1           1  Beyoncé Giselle Knowles-Carter (/biːˈjɒnseɪ/ b...   \n",
       "2           2  Beyoncé Giselle Knowles-Carter (/biːˈjɒnseɪ/ b...   \n",
       "3           3  Beyoncé Giselle Knowles-Carter (/biːˈjɒnseɪ/ b...   \n",
       "4           4  Beyoncé Giselle Knowles-Carter (/biːˈjɒnseɪ/ b...   \n",
       "5           5  Beyoncé Giselle Knowles-Carter (/biːˈjɒnseɪ/ b...   \n",
       "6           6  Beyoncé Giselle Knowles-Carter (/biːˈjɒnseɪ/ b...   \n",
       "7           7  Beyoncé Giselle Knowles-Carter (/biːˈjɒnseɪ/ b...   \n",
       "8           8  Beyoncé Giselle Knowles-Carter (/biːˈjɒnseɪ/ b...   \n",
       "9           9  Beyoncé Giselle Knowles-Carter (/biːˈjɒnseɪ/ b...   \n",
       "\n",
       "                                            question  \\\n",
       "0           When did Beyonce start becoming popular?   \n",
       "1  What areas did Beyonce compete in when she was...   \n",
       "2  When did Beyonce leave Destiny's Child and bec...   \n",
       "3      In what city and state did Beyonce  grow up?    \n",
       "4         In which decade did Beyonce become famous?   \n",
       "5         In what R&B group was she the lead singer?   \n",
       "6      What album made her a worldwide known artist?   \n",
       "7             Who managed the Destiny's Child group?   \n",
       "8                     When did Beyoncé rise to fame?   \n",
       "9     What role did Beyoncé have in Destiny's Child?   \n",
       "\n",
       "                         id  answer_start                 text  \n",
       "0  56be85543aeaaa14008c9063           269    in the late 1990s  \n",
       "1  56be85543aeaaa14008c9065           207  singing and dancing  \n",
       "2  56be85543aeaaa14008c9066           526                 2003  \n",
       "3  56bf6b0f3aeaaa14008c9601           166       Houston, Texas  \n",
       "4  56bf6b0f3aeaaa14008c9602           276           late 1990s  \n",
       "5  56bf6b0f3aeaaa14008c9603           320      Destiny's Child  \n",
       "6  56bf6b0f3aeaaa14008c9604           505  Dangerously in Love  \n",
       "7  56bf6b0f3aeaaa14008c9605           360       Mathew Knowles  \n",
       "8  56d43c5f2ccc5a1400d830a9           276           late 1990s  \n",
       "9  56d43c5f2ccc5a1400d830aa           290          lead singer  "
      ]
     },
     "execution_count": 127,
     "metadata": {},
     "output_type": "execute_result"
    }
   ],
   "source": [
    "df.head(10)"
   ]
  },
  {
   "cell_type": "code",
   "execution_count": 128,
   "metadata": {},
   "outputs": [],
   "source": [
    "# Define the fraction of rows to keep (e.g., keep 80% of the rows)\n",
    "fraction_to_keep = 0.2\n",
    "\n",
    "df = df.sample(frac=fraction_to_keep, random_state=1).reset_index(drop=True)"
   ]
  },
  {
   "cell_type": "code",
   "execution_count": 129,
   "metadata": {},
   "outputs": [
    {
     "name": "stdout",
     "output_type": "stream",
     "text": [
      "<class 'pandas.core.frame.DataFrame'>\n",
      "RangeIndex: 17364 entries, 0 to 17363\n",
      "Data columns (total 6 columns):\n",
      " #   Column        Non-Null Count  Dtype \n",
      "---  ------        --------------  ----- \n",
      " 0   Unnamed: 0    17364 non-null  int64 \n",
      " 1   context       17364 non-null  object\n",
      " 2   question      17364 non-null  object\n",
      " 3   id            17364 non-null  object\n",
      " 4   answer_start  17364 non-null  int64 \n",
      " 5   text          17364 non-null  object\n",
      "dtypes: int64(2), object(4)\n",
      "memory usage: 814.1+ KB\n"
     ]
    }
   ],
   "source": [
    "df.info()"
   ]
  },
  {
   "cell_type": "code",
   "execution_count": 130,
   "metadata": {},
   "outputs": [
    {
     "data": {
      "text/plain": [
       "Index(['Unnamed: 0', 'context', 'question', 'id', 'answer_start', 'text'], dtype='object')"
      ]
     },
     "execution_count": 130,
     "metadata": {},
     "output_type": "execute_result"
    }
   ],
   "source": [
    "df.columns"
   ]
  },
  {
   "cell_type": "code",
   "execution_count": 131,
   "metadata": {},
   "outputs": [],
   "source": [
    "df = df.drop(labels={'Unnamed: 0','id', 'answer_start'},axis=1)"
   ]
  },
  {
   "cell_type": "code",
   "execution_count": 132,
   "metadata": {},
   "outputs": [],
   "source": [
    "df = df.dropna()"
   ]
  },
  {
   "cell_type": "code",
   "execution_count": 133,
   "metadata": {},
   "outputs": [
    {
     "name": "stdout",
     "output_type": "stream",
     "text": [
      "No duplicates\n"
     ]
    }
   ],
   "source": [
    "if df.duplicated().sum() > 0:\n",
    "    print(\"Duplicates exists.\")\n",
    "    df = df.drop_duplicates()\n",
    "    print(\"Remove Duplicates\")\n",
    "\n",
    "else:\n",
    "    print(\"No duplicates\")"
   ]
  },
  {
   "cell_type": "code",
   "execution_count": 134,
   "metadata": {},
   "outputs": [
    {
     "name": "stdout",
     "output_type": "stream",
     "text": [
      "<class 'pandas.core.frame.DataFrame'>\n",
      "RangeIndex: 17364 entries, 0 to 17363\n",
      "Data columns (total 3 columns):\n",
      " #   Column    Non-Null Count  Dtype \n",
      "---  ------    --------------  ----- \n",
      " 0   context   17364 non-null  object\n",
      " 1   question  17364 non-null  object\n",
      " 2   text      17364 non-null  object\n",
      "dtypes: object(3)\n",
      "memory usage: 407.1+ KB\n"
     ]
    }
   ],
   "source": [
    "df.info()"
   ]
  },
  {
   "cell_type": "code",
   "execution_count": 135,
   "metadata": {},
   "outputs": [
    {
     "data": {
      "text/html": [
       "<div>\n",
       "<style scoped>\n",
       "    .dataframe tbody tr th:only-of-type {\n",
       "        vertical-align: middle;\n",
       "    }\n",
       "\n",
       "    .dataframe tbody tr th {\n",
       "        vertical-align: top;\n",
       "    }\n",
       "\n",
       "    .dataframe thead th {\n",
       "        text-align: right;\n",
       "    }\n",
       "</style>\n",
       "<table border=\"1\" class=\"dataframe\">\n",
       "  <thead>\n",
       "    <tr style=\"text-align: right;\">\n",
       "      <th></th>\n",
       "      <th>context</th>\n",
       "      <th>question</th>\n",
       "      <th>text</th>\n",
       "    </tr>\n",
       "  </thead>\n",
       "  <tbody>\n",
       "    <tr>\n",
       "      <th>0</th>\n",
       "      <td>Despite the death of Queen Mary on 24 March, t...</td>\n",
       "      <td>When was the coronation of Elizabeth as Queen?</td>\n",
       "      <td>2 June 1953</td>\n",
       "    </tr>\n",
       "    <tr>\n",
       "      <th>1</th>\n",
       "      <td>Clothing can and has in history been made from...</td>\n",
       "      <td>What is an article that is carried rather than...</td>\n",
       "      <td>purses</td>\n",
       "    </tr>\n",
       "    <tr>\n",
       "      <th>2</th>\n",
       "      <td>In 2013–14 a pornographic actor was trying to ...</td>\n",
       "      <td>What legal system did the actor use after fili...</td>\n",
       "      <td>Federal Court of Canada</td>\n",
       "    </tr>\n",
       "    <tr>\n",
       "      <th>3</th>\n",
       "      <td>The Cold War drew to a close in the late 1980s...</td>\n",
       "      <td>What was  the Soviet Union suffering from in t...</td>\n",
       "      <td>severe economic stagnation</td>\n",
       "    </tr>\n",
       "    <tr>\n",
       "      <th>4</th>\n",
       "      <td>Commercial turkeys are usually reared indoors ...</td>\n",
       "      <td>What the average for the amount of  turkeys ar...</td>\n",
       "      <td>60 million birds in the United States</td>\n",
       "    </tr>\n",
       "  </tbody>\n",
       "</table>\n",
       "</div>"
      ],
      "text/plain": [
       "                                             context  \\\n",
       "0  Despite the death of Queen Mary on 24 March, t...   \n",
       "1  Clothing can and has in history been made from...   \n",
       "2  In 2013–14 a pornographic actor was trying to ...   \n",
       "3  The Cold War drew to a close in the late 1980s...   \n",
       "4  Commercial turkeys are usually reared indoors ...   \n",
       "\n",
       "                                            question  \\\n",
       "0     When was the coronation of Elizabeth as Queen?   \n",
       "1  What is an article that is carried rather than...   \n",
       "2  What legal system did the actor use after fili...   \n",
       "3  What was  the Soviet Union suffering from in t...   \n",
       "4  What the average for the amount of  turkeys ar...   \n",
       "\n",
       "                                    text  \n",
       "0                            2 June 1953  \n",
       "1                                 purses  \n",
       "2                Federal Court of Canada  \n",
       "3             severe economic stagnation  \n",
       "4  60 million birds in the United States  "
      ]
     },
     "execution_count": 135,
     "metadata": {},
     "output_type": "execute_result"
    }
   ],
   "source": [
    "df.head(5)"
   ]
  },
  {
   "cell_type": "code",
   "execution_count": 136,
   "metadata": {},
   "outputs": [],
   "source": [
    "import nltk\n",
    "import re\n",
    "from nltk.corpus import stopwords\n",
    "from nltk.stem import WordNetLemmatizer\n",
    "from nltk.tokenize import word_tokenize"
   ]
  },
  {
   "cell_type": "code",
   "execution_count": 137,
   "metadata": {},
   "outputs": [],
   "source": [
    "def clean_text(text):\n",
    "    if not isinstance(text,str):\n",
    "        return \"\"\n",
    "    \n",
    "    text = text.lower()\n",
    "    \n",
    "    text = re.sub(r'[^\\w\\s\\d]','',text)\n",
    "    \n",
    "    words =word_tokenize(text)\n",
    "    \n",
    "    stop_words = set(stopwords.words('english'))\n",
    "    words = [word for word in words if word not in stop_words]\n",
    "    \n",
    "    lemmatizer = WordNetLemmatizer()\n",
    "    words = [lemmatizer.lemmatize(word) for word in words]\n",
    "    \n",
    "    # join the words back together\n",
    "    \n",
    "    text = ''.join(words)\n",
    "    return text"
   ]
  },
  {
   "cell_type": "code",
   "execution_count": null,
   "metadata": {},
   "outputs": [],
   "source": [
    "# df['new_context'] =df['context'] + df['question']"
   ]
  },
  {
   "cell_type": "code",
   "execution_count": 138,
   "metadata": {},
   "outputs": [],
   "source": [
    "df['context_clean'] = df['context'].apply(clean_text)"
   ]
  },
  {
   "cell_type": "code",
   "execution_count": 139,
   "metadata": {},
   "outputs": [
    {
     "name": "stdout",
     "output_type": "stream",
     "text": [
      "<class 'pandas.core.frame.DataFrame'>\n",
      "RangeIndex: 17364 entries, 0 to 17363\n",
      "Data columns (total 4 columns):\n",
      " #   Column         Non-Null Count  Dtype \n",
      "---  ------         --------------  ----- \n",
      " 0   context        17364 non-null  object\n",
      " 1   question       17364 non-null  object\n",
      " 2   text           17364 non-null  object\n",
      " 3   context_clean  17364 non-null  object\n",
      "dtypes: object(4)\n",
      "memory usage: 542.8+ KB\n"
     ]
    }
   ],
   "source": [
    "df.info()"
   ]
  },
  {
   "cell_type": "code",
   "execution_count": 140,
   "metadata": {},
   "outputs": [
    {
     "data": {
      "text/html": [
       "<div>\n",
       "<style scoped>\n",
       "    .dataframe tbody tr th:only-of-type {\n",
       "        vertical-align: middle;\n",
       "    }\n",
       "\n",
       "    .dataframe tbody tr th {\n",
       "        vertical-align: top;\n",
       "    }\n",
       "\n",
       "    .dataframe thead th {\n",
       "        text-align: right;\n",
       "    }\n",
       "</style>\n",
       "<table border=\"1\" class=\"dataframe\">\n",
       "  <thead>\n",
       "    <tr style=\"text-align: right;\">\n",
       "      <th></th>\n",
       "      <th>context</th>\n",
       "      <th>question</th>\n",
       "      <th>text</th>\n",
       "      <th>context_clean</th>\n",
       "    </tr>\n",
       "  </thead>\n",
       "  <tbody>\n",
       "    <tr>\n",
       "      <th>0</th>\n",
       "      <td>Despite the death of Queen Mary on 24 March, t...</td>\n",
       "      <td>When was the coronation of Elizabeth as Queen?</td>\n",
       "      <td>2 June 1953</td>\n",
       "      <td>despitedeathqueenmary24marchcoronation2june195...</td>\n",
       "    </tr>\n",
       "    <tr>\n",
       "      <th>1</th>\n",
       "      <td>Clothing can and has in history been made from...</td>\n",
       "      <td>What is an article that is carried rather than...</td>\n",
       "      <td>purses</td>\n",
       "      <td>clothinghistorymadewidevarietymaterialmaterial...</td>\n",
       "    </tr>\n",
       "    <tr>\n",
       "      <th>2</th>\n",
       "      <td>In 2013–14 a pornographic actor was trying to ...</td>\n",
       "      <td>What legal system did the actor use after fili...</td>\n",
       "      <td>Federal Court of Canada</td>\n",
       "      <td>201314pornographicactortryingremovearchivedima...</td>\n",
       "    </tr>\n",
       "    <tr>\n",
       "      <th>3</th>\n",
       "      <td>The Cold War drew to a close in the late 1980s...</td>\n",
       "      <td>What was  the Soviet Union suffering from in t...</td>\n",
       "      <td>severe economic stagnation</td>\n",
       "      <td>coldwardrewcloselate1980searly1990sunitedstate...</td>\n",
       "    </tr>\n",
       "    <tr>\n",
       "      <th>4</th>\n",
       "      <td>Commercial turkeys are usually reared indoors ...</td>\n",
       "      <td>What the average for the amount of  turkeys ar...</td>\n",
       "      <td>60 million birds in the United States</td>\n",
       "      <td>commercialturkeyusuallyrearedindoorscontrolled...</td>\n",
       "    </tr>\n",
       "  </tbody>\n",
       "</table>\n",
       "</div>"
      ],
      "text/plain": [
       "                                             context  \\\n",
       "0  Despite the death of Queen Mary on 24 March, t...   \n",
       "1  Clothing can and has in history been made from...   \n",
       "2  In 2013–14 a pornographic actor was trying to ...   \n",
       "3  The Cold War drew to a close in the late 1980s...   \n",
       "4  Commercial turkeys are usually reared indoors ...   \n",
       "\n",
       "                                            question  \\\n",
       "0     When was the coronation of Elizabeth as Queen?   \n",
       "1  What is an article that is carried rather than...   \n",
       "2  What legal system did the actor use after fili...   \n",
       "3  What was  the Soviet Union suffering from in t...   \n",
       "4  What the average for the amount of  turkeys ar...   \n",
       "\n",
       "                                    text  \\\n",
       "0                            2 June 1953   \n",
       "1                                 purses   \n",
       "2                Federal Court of Canada   \n",
       "3             severe economic stagnation   \n",
       "4  60 million birds in the United States   \n",
       "\n",
       "                                       context_clean  \n",
       "0  despitedeathqueenmary24marchcoronation2june195...  \n",
       "1  clothinghistorymadewidevarietymaterialmaterial...  \n",
       "2  201314pornographicactortryingremovearchivedima...  \n",
       "3  coldwardrewcloselate1980searly1990sunitedstate...  \n",
       "4  commercialturkeyusuallyrearedindoorscontrolled...  "
      ]
     },
     "execution_count": 140,
     "metadata": {},
     "output_type": "execute_result"
    }
   ],
   "source": [
    "df.head(5)"
   ]
  },
  {
   "cell_type": "code",
   "execution_count": 157,
   "metadata": {},
   "outputs": [],
   "source": [
    "from sklearn.feature_extraction.text import CountVectorizer\n",
    "from sklearn.model_selection import train_test_split\n",
    "from sklearn.metrics.pairwise import cosine_similarity\n",
    "from scipy.sparse import csr_matrix\n"
   ]
  },
  {
   "cell_type": "code",
   "execution_count": 158,
   "metadata": {},
   "outputs": [],
   "source": [
    "train_data, test_data = train_test_split(df, test_size=0.2,random_state=42)"
   ]
  },
  {
   "cell_type": "code",
   "execution_count": 160,
   "metadata": {},
   "outputs": [],
   "source": [
    "cv = CountVectorizer(max_features=10000,stop_words='english')"
   ]
  },
  {
   "cell_type": "code",
   "execution_count": 161,
   "metadata": {},
   "outputs": [],
   "source": [
    "vector = cv.fit_transform(df['context_clean'].values.astype('U')).toarray()"
   ]
  },
  {
   "cell_type": "code",
   "execution_count": 185,
   "metadata": {},
   "outputs": [
    {
     "data": {
      "text/plain": [
       "0        Despite the death of Queen Mary on 24 March, t...\n",
       "1        Clothing can and has in history been made from...\n",
       "2        In 2013–14 a pornographic actor was trying to ...\n",
       "3        The Cold War drew to a close in the late 1980s...\n",
       "4        Commercial turkeys are usually reared indoors ...\n",
       "                               ...                        \n",
       "17359    There is usually an indication for a specific ...\n",
       "17360    The islands are at relatively low altitudes, w...\n",
       "17361    During World War II, the British destroyed the...\n",
       "17362    Tourism is considered another important indust...\n",
       "17363    London has a diverse range of peoples and cult...\n",
       "Name: context, Length: 17364, dtype: object"
      ]
     },
     "execution_count": 185,
     "metadata": {},
     "output_type": "execute_result"
    }
   ],
   "source": [
    "df['context']"
   ]
  },
  {
   "cell_type": "code",
   "execution_count": 162,
   "metadata": {},
   "outputs": [
    {
     "data": {
      "text/plain": [
       "(17364, 10000)"
      ]
     },
     "execution_count": 162,
     "metadata": {},
     "output_type": "execute_result"
    }
   ],
   "source": [
    "vector.shape"
   ]
  },
  {
   "cell_type": "code",
   "execution_count": 146,
   "metadata": {},
   "outputs": [],
   "source": [
    "similarity = cosine_similarity(vector)"
   ]
  },
  {
   "cell_type": "code",
   "execution_count": 147,
   "metadata": {},
   "outputs": [
    {
     "data": {
      "text/plain": [
       "array([[1., 0., 0., ..., 0., 0., 0.],\n",
       "       [0., 1., 0., ..., 0., 0., 0.],\n",
       "       [0., 0., 0., ..., 0., 0., 0.],\n",
       "       ...,\n",
       "       [0., 0., 0., ..., 0., 0., 0.],\n",
       "       [0., 0., 0., ..., 0., 1., 0.],\n",
       "       [0., 0., 0., ..., 0., 0., 1.]])"
      ]
     },
     "execution_count": 147,
     "metadata": {},
     "output_type": "execute_result"
    }
   ],
   "source": [
    "similarity"
   ]
  },
  {
   "cell_type": "code",
   "execution_count": 186,
   "metadata": {},
   "outputs": [
    {
     "name": "stdout",
     "output_type": "stream",
     "text": [
      "What groups can be combined to describe every group?\n",
      "What group can be the quotient of the free group over the generators of the group?\n",
      "When was the coronation of Elizabeth as Queen?\n",
      "What is an article that is carried rather than worn that isn't regarded as clothing?\n",
      "What legal system did the actor use after filing DMCA petitions?\n"
     ]
    }
   ],
   "source": [
    "distance = sorted(list(enumerate(similarity[17317])), reverse=True, key= lambda vector:vector[1])\n",
    "for i in distance[0:5]:\n",
    "    print(df.iloc[i[0]].question)"
   ]
  },
  {
   "cell_type": "code",
   "execution_count": 181,
   "metadata": {},
   "outputs": [],
   "source": [
    "def recommend(question):\n",
    "    try:\n",
    "        index = df[df['question'] == question].index[0]\n",
    "        print(index)\n",
    "        distance = sorted(list(enumerate(similarity[index])), reverse=True, key= lambda vector:vector[1])\n",
    "        print(similarity[index])\n",
    "        for i in distance[0:5]:\n",
    "            print(df.iloc[i[0]].question)\n",
    "    except:\n",
    "        print(\"No question\")\n",
    "        "
   ]
  },
  {
   "cell_type": "code",
   "execution_count": 184,
   "metadata": {},
   "outputs": [
    {
     "name": "stdout",
     "output_type": "stream",
     "text": [
      "17301\n",
      "[0. 0. 0. ... 0. 0. 0.]\n",
      "What are these statutes essential to?\n",
      "When was the coronation of Elizabeth as Queen?\n",
      "What is an article that is carried rather than worn that isn't regarded as clothing?\n",
      "What legal system did the actor use after filing DMCA petitions?\n",
      "What was  the Soviet Union suffering from in the 1980's?\n"
     ]
    }
   ],
   "source": [
    "recommend(\"What are these statutes essential to?\")"
   ]
  },
  {
   "cell_type": "code",
   "execution_count": null,
   "metadata": {},
   "outputs": [],
   "source": [
    "df.to_csv('new_questions.csv',index=False)"
   ]
  }
 ],
 "metadata": {
  "kernelspec": {
   "display_name": "venv",
   "language": "python",
   "name": "python3"
  },
  "language_info": {
   "codemirror_mode": {
    "name": "ipython",
    "version": 3
   },
   "file_extension": ".py",
   "mimetype": "text/x-python",
   "name": "python",
   "nbconvert_exporter": "python",
   "pygments_lexer": "ipython3",
   "version": "3.11.2"
  }
 },
 "nbformat": 4,
 "nbformat_minor": 2
}
